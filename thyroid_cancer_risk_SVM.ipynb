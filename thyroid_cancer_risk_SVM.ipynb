{
 "cells": [
  {
   "cell_type": "markdown",
   "metadata": {},
   "source": [
    "# Thyroid Cancer Risk Prediction"
   ]
  },
  {
   "cell_type": "markdown",
   "metadata": {},
   "source": [
    "### Load dataset "
   ]
  },
  {
   "cell_type": "code",
   "execution_count": 1,
   "metadata": {},
   "outputs": [],
   "source": [
    "#Imports\n",
    "import pandas as pd\n",
    "import numpy as np\n",
    "import matplotlib.pyplot as plt\n",
    "import seaborn as sns\n",
    "from sklearn.model_selection import train_test_split\n",
    "from sklearn.preprocessing import StandardScaler, LabelEncoder\n",
    "from sklearn.ensemble import RandomForestClassifier\n",
    "from sklearn.metrics import classification_report, confusion_matrix, accuracy_score\n",
    "\n",
    "from sklearn.svm import SVC\n",
    "from sklearn.metrics import roc_curve, auc\n",
    "from sklearn.decomposition import PCA\n",
    "\n",
    "from imblearn.over_sampling import SMOTE\n",
    "from sklearn.model_selection import GridSearchCV"
   ]
  },
  {
   "cell_type": "code",
   "execution_count": 2,
   "metadata": {},
   "outputs": [],
   "source": [
    "df = pd.read_csv('C:/Users/wangz/Downloads/thyroid_cancer_risk_data.csv')"
   ]
  },
  {
   "cell_type": "code",
   "execution_count": 3,
   "metadata": {},
   "outputs": [
    {
     "name": "stdout",
     "output_type": "stream",
     "text": [
      "------ df.shape---------\n",
      "(212691, 17)\n",
      "------ df.head---------\n",
      "   Patient_ID  Age  Gender  Country  Ethnicity Family_History  \\\n",
      "0           1   66    Male   Russia  Caucasian             No   \n",
      "1           2   29    Male  Germany   Hispanic             No   \n",
      "2           3   86    Male  Nigeria  Caucasian             No   \n",
      "3           4   75  Female    India      Asian             No   \n",
      "4           5   35  Female  Germany    African            Yes   \n",
      "\n",
      "  Radiation_Exposure Iodine_Deficiency Smoking Obesity Diabetes  TSH_Level  \\\n",
      "0                Yes                No      No      No       No       9.37   \n",
      "1                Yes                No      No      No       No       1.83   \n",
      "2                 No                No      No      No       No       6.26   \n",
      "3                 No                No      No      No       No       4.10   \n",
      "4                Yes                No      No      No       No       9.10   \n",
      "\n",
      "   T3_Level  T4_Level  Nodule_Size Thyroid_Cancer_Risk Diagnosis  \n",
      "0      1.67      6.16         1.08                 Low    Benign  \n",
      "1      1.73     10.54         4.05                 Low    Benign  \n",
      "2      2.59     10.57         4.61                 Low    Benign  \n",
      "3      2.62     11.04         2.46              Medium    Benign  \n",
      "4      2.11     10.71         2.11                High    Benign  \n",
      "----- df.describe--------\n",
      "         Patient_ID            Age      TSH_Level       T3_Level  \\\n",
      "count  212691.00000  212691.000000  212691.000000  212691.000000   \n",
      "mean   106346.00000      51.918497       5.045102       2.001727   \n",
      "std     61398.74739      21.632815       2.860264       0.866248   \n",
      "min         1.00000      15.000000       0.100000       0.500000   \n",
      "25%     53173.50000      33.000000       2.570000       1.250000   \n",
      "50%    106346.00000      52.000000       5.040000       2.000000   \n",
      "75%    159518.50000      71.000000       7.520000       2.750000   \n",
      "max    212691.00000      89.000000      10.000000       3.500000   \n",
      "\n",
      "            T4_Level    Nodule_Size  \n",
      "count  212691.000000  212691.000000  \n",
      "mean        8.246204       2.503403  \n",
      "std         2.164188       1.444631  \n",
      "min         4.500000       0.000000  \n",
      "25%         6.370000       1.250000  \n",
      "50%         8.240000       2.510000  \n",
      "75%        10.120000       3.760000  \n",
      "max        12.000000       5.000000  \n",
      "----- check for null values -----------\n",
      "Patient_ID             0\n",
      "Age                    0\n",
      "Gender                 0\n",
      "Country                0\n",
      "Ethnicity              0\n",
      "Family_History         0\n",
      "Radiation_Exposure     0\n",
      "Iodine_Deficiency      0\n",
      "Smoking                0\n",
      "Obesity                0\n",
      "Diabetes               0\n",
      "TSH_Level              0\n",
      "T3_Level               0\n",
      "T4_Level               0\n",
      "Nodule_Size            0\n",
      "Thyroid_Cancer_Risk    0\n",
      "Diagnosis              0\n",
      "dtype: int64\n"
     ]
    }
   ],
   "source": [
    "print(\"------ df.shape---------\")\n",
    "print(df.shape)\n",
    "\n",
    "print(\"------ df.head---------\")\n",
    "print(df.head())\n",
    "\n",
    "print(\"----- df.describe--------\")\n",
    "print(df.describe())\n",
    "\n",
    "print(\"----- check for null values -----------\")\n",
    "print(df.isnull().sum())"
   ]
  },
  {
   "cell_type": "code",
   "execution_count": 4,
   "metadata": {},
   "outputs": [
    {
     "data": {
      "text/html": [
       "<div>\n",
       "<style scoped>\n",
       "    .dataframe tbody tr th:only-of-type {\n",
       "        vertical-align: middle;\n",
       "    }\n",
       "\n",
       "    .dataframe tbody tr th {\n",
       "        vertical-align: top;\n",
       "    }\n",
       "\n",
       "    .dataframe thead th {\n",
       "        text-align: right;\n",
       "    }\n",
       "</style>\n",
       "<table border=\"1\" class=\"dataframe\">\n",
       "  <thead>\n",
       "    <tr style=\"text-align: right;\">\n",
       "      <th></th>\n",
       "      <th>Age</th>\n",
       "      <th>Gender</th>\n",
       "      <th>Family_History</th>\n",
       "      <th>Radiation_Exposure</th>\n",
       "      <th>Iodine_Deficiency</th>\n",
       "      <th>Smoking</th>\n",
       "      <th>Obesity</th>\n",
       "      <th>Diabetes</th>\n",
       "      <th>TSH_Level</th>\n",
       "      <th>T3_Level</th>\n",
       "      <th>...</th>\n",
       "      <th>Country_south korea</th>\n",
       "      <th>Country_uk</th>\n",
       "      <th>Country_usa</th>\n",
       "      <th>Ethnicity_asian</th>\n",
       "      <th>Ethnicity_caucasian</th>\n",
       "      <th>Ethnicity_hispanic</th>\n",
       "      <th>Ethnicity_middle eastern</th>\n",
       "      <th>Thyroid_Cancer_Risk_low</th>\n",
       "      <th>Thyroid_Cancer_Risk_medium</th>\n",
       "      <th>Diagnosis_malignant</th>\n",
       "    </tr>\n",
       "  </thead>\n",
       "  <tbody>\n",
       "    <tr>\n",
       "      <th>0</th>\n",
       "      <td>66</td>\n",
       "      <td>1</td>\n",
       "      <td>0</td>\n",
       "      <td>1</td>\n",
       "      <td>0</td>\n",
       "      <td>0</td>\n",
       "      <td>0</td>\n",
       "      <td>0</td>\n",
       "      <td>9.37</td>\n",
       "      <td>1.67</td>\n",
       "      <td>...</td>\n",
       "      <td>False</td>\n",
       "      <td>False</td>\n",
       "      <td>False</td>\n",
       "      <td>False</td>\n",
       "      <td>True</td>\n",
       "      <td>False</td>\n",
       "      <td>False</td>\n",
       "      <td>True</td>\n",
       "      <td>False</td>\n",
       "      <td>False</td>\n",
       "    </tr>\n",
       "    <tr>\n",
       "      <th>1</th>\n",
       "      <td>29</td>\n",
       "      <td>1</td>\n",
       "      <td>0</td>\n",
       "      <td>1</td>\n",
       "      <td>0</td>\n",
       "      <td>0</td>\n",
       "      <td>0</td>\n",
       "      <td>0</td>\n",
       "      <td>1.83</td>\n",
       "      <td>1.73</td>\n",
       "      <td>...</td>\n",
       "      <td>False</td>\n",
       "      <td>False</td>\n",
       "      <td>False</td>\n",
       "      <td>False</td>\n",
       "      <td>False</td>\n",
       "      <td>True</td>\n",
       "      <td>False</td>\n",
       "      <td>True</td>\n",
       "      <td>False</td>\n",
       "      <td>False</td>\n",
       "    </tr>\n",
       "    <tr>\n",
       "      <th>2</th>\n",
       "      <td>86</td>\n",
       "      <td>1</td>\n",
       "      <td>0</td>\n",
       "      <td>0</td>\n",
       "      <td>0</td>\n",
       "      <td>0</td>\n",
       "      <td>0</td>\n",
       "      <td>0</td>\n",
       "      <td>6.26</td>\n",
       "      <td>2.59</td>\n",
       "      <td>...</td>\n",
       "      <td>False</td>\n",
       "      <td>False</td>\n",
       "      <td>False</td>\n",
       "      <td>False</td>\n",
       "      <td>True</td>\n",
       "      <td>False</td>\n",
       "      <td>False</td>\n",
       "      <td>True</td>\n",
       "      <td>False</td>\n",
       "      <td>False</td>\n",
       "    </tr>\n",
       "    <tr>\n",
       "      <th>3</th>\n",
       "      <td>75</td>\n",
       "      <td>0</td>\n",
       "      <td>0</td>\n",
       "      <td>0</td>\n",
       "      <td>0</td>\n",
       "      <td>0</td>\n",
       "      <td>0</td>\n",
       "      <td>0</td>\n",
       "      <td>4.10</td>\n",
       "      <td>2.62</td>\n",
       "      <td>...</td>\n",
       "      <td>False</td>\n",
       "      <td>False</td>\n",
       "      <td>False</td>\n",
       "      <td>True</td>\n",
       "      <td>False</td>\n",
       "      <td>False</td>\n",
       "      <td>False</td>\n",
       "      <td>False</td>\n",
       "      <td>True</td>\n",
       "      <td>False</td>\n",
       "    </tr>\n",
       "    <tr>\n",
       "      <th>4</th>\n",
       "      <td>35</td>\n",
       "      <td>0</td>\n",
       "      <td>1</td>\n",
       "      <td>1</td>\n",
       "      <td>0</td>\n",
       "      <td>0</td>\n",
       "      <td>0</td>\n",
       "      <td>0</td>\n",
       "      <td>9.10</td>\n",
       "      <td>2.11</td>\n",
       "      <td>...</td>\n",
       "      <td>False</td>\n",
       "      <td>False</td>\n",
       "      <td>False</td>\n",
       "      <td>False</td>\n",
       "      <td>False</td>\n",
       "      <td>False</td>\n",
       "      <td>False</td>\n",
       "      <td>False</td>\n",
       "      <td>False</td>\n",
       "      <td>False</td>\n",
       "    </tr>\n",
       "  </tbody>\n",
       "</table>\n",
       "<p>5 rows × 28 columns</p>\n",
       "</div>"
      ],
      "text/plain": [
       "   Age  Gender  Family_History  Radiation_Exposure  Iodine_Deficiency  \\\n",
       "0   66       1               0                   1                  0   \n",
       "1   29       1               0                   1                  0   \n",
       "2   86       1               0                   0                  0   \n",
       "3   75       0               0                   0                  0   \n",
       "4   35       0               1                   1                  0   \n",
       "\n",
       "   Smoking  Obesity  Diabetes  TSH_Level  T3_Level  ...  Country_south korea  \\\n",
       "0        0        0         0       9.37      1.67  ...                False   \n",
       "1        0        0         0       1.83      1.73  ...                False   \n",
       "2        0        0         0       6.26      2.59  ...                False   \n",
       "3        0        0         0       4.10      2.62  ...                False   \n",
       "4        0        0         0       9.10      2.11  ...                False   \n",
       "\n",
       "   Country_uk  Country_usa  Ethnicity_asian  Ethnicity_caucasian  \\\n",
       "0       False        False            False                 True   \n",
       "1       False        False            False                False   \n",
       "2       False        False            False                 True   \n",
       "3       False        False             True                False   \n",
       "4       False        False            False                False   \n",
       "\n",
       "   Ethnicity_hispanic  Ethnicity_middle eastern  Thyroid_Cancer_Risk_low  \\\n",
       "0               False                     False                     True   \n",
       "1                True                     False                     True   \n",
       "2               False                     False                     True   \n",
       "3               False                     False                    False   \n",
       "4               False                     False                    False   \n",
       "\n",
       "   Thyroid_Cancer_Risk_medium  Diagnosis_malignant  \n",
       "0                       False                False  \n",
       "1                       False                False  \n",
       "2                       False                False  \n",
       "3                        True                False  \n",
       "4                       False                False  \n",
       "\n",
       "[5 rows x 28 columns]"
      ]
     },
     "execution_count": 4,
     "metadata": {},
     "output_type": "execute_result"
    }
   ],
   "source": [
    "import pandas as pd\n",
    "from sklearn.preprocessing import LabelEncoder\n",
    "\n",
    "# Step 2: Drop irrelevant columns\n",
    "df = df.drop(columns=['Patient_ID'])  # Not useful for ML\n",
    "\n",
    "# Step 3: Standardize object (categorical) columns\n",
    "# Convert to lowercase and strip spaces for consistency\n",
    "for col in df.select_dtypes(include='object').columns:\n",
    "    df[col] = df[col].str.lower().str.strip()\n",
    "\n",
    "# Optional: Check for unique values per categorical column\n",
    "# print({col: df[col].unique() for col in df.select_dtypes(include='object').columns})\n",
    "\n",
    "# Step 4: Encode categorical features\n",
    "# Label encode binary features or use one-hot encoding for others\n",
    "\n",
    "# Binary Label Encoding\n",
    "binary_cols = ['Gender', 'Family_History', 'Radiation_Exposure', 'Iodine_Deficiency', \n",
    "                'Smoking', 'Obesity', 'Diabetes']\n",
    "\n",
    "le = LabelEncoder()\n",
    "for col in binary_cols:\n",
    "    df[col] = le.fit_transform(df[col])\n",
    "\n",
    "# One-Hot Encoding for multi-category features\n",
    "df = pd.get_dummies(df, columns=['Country', 'Ethnicity', 'Thyroid_Cancer_Risk', 'Diagnosis'], drop_first=True)\n",
    "\n",
    "# Step 5: Resulting cleaned dataframe\n",
    "df.head()\n"
   ]
  },
  {
   "cell_type": "code",
   "execution_count": 5,
   "metadata": {},
   "outputs": [
    {
     "name": "stdout",
     "output_type": "stream",
     "text": [
      "Index(['Age', 'Gender', 'Family_History', 'Radiation_Exposure',\n",
      "       'Iodine_Deficiency', 'Smoking', 'Obesity', 'Diabetes', 'TSH_Level',\n",
      "       'T3_Level', 'T4_Level', 'Nodule_Size', 'Country_china',\n",
      "       'Country_germany', 'Country_india', 'Country_japan', 'Country_nigeria',\n",
      "       'Country_russia', 'Country_south korea', 'Country_uk', 'Country_usa',\n",
      "       'Ethnicity_asian', 'Ethnicity_caucasian', 'Ethnicity_hispanic',\n",
      "       'Ethnicity_middle eastern', 'Thyroid_Cancer_Risk_low',\n",
      "       'Thyroid_Cancer_Risk_medium', 'Diagnosis_malignant'],\n",
      "      dtype='object')\n"
     ]
    }
   ],
   "source": [
    "print(df.columns)"
   ]
  },
  {
   "cell_type": "markdown",
   "metadata": {},
   "source": [
    "# Assign X and y"
   ]
  },
  {
   "cell_type": "code",
   "execution_count": 6,
   "metadata": {},
   "outputs": [],
   "source": [
    "features = ['Age', 'Gender', 'Family_History', 'Radiation_Exposure',\n",
    "       'Iodine_Deficiency', 'Smoking', 'Obesity', 'Diabetes', 'TSH_Level',\n",
    "       'T3_Level', 'T4_Level', 'Nodule_Size', 'Country_china',\n",
    "       'Country_germany', 'Country_india', 'Country_japan', 'Country_nigeria',\n",
    "       'Country_russia', 'Country_south korea', 'Country_uk', 'Country_usa',\n",
    "       'Ethnicity_asian', 'Ethnicity_caucasian', 'Ethnicity_hispanic',\n",
    "       'Ethnicity_middle eastern', 'Thyroid_Cancer_Risk_low',\n",
    "       'Thyroid_Cancer_Risk_medium']\n",
    "X = df[features]\n",
    "\n",
    "y = df['Diagnosis_malignant']"
   ]
  },
  {
   "cell_type": "markdown",
   "metadata": {},
   "source": [
    "# Split Data"
   ]
  },
  {
   "cell_type": "code",
   "execution_count": 7,
   "metadata": {},
   "outputs": [],
   "source": [
    "X_train, X_test, y_train, y_test = train_test_split(X, y, test_size=0.5, random_state=1)"
   ]
  },
  {
   "cell_type": "markdown",
   "metadata": {},
   "source": [
    "# Normalize the features"
   ]
  },
  {
   "cell_type": "code",
   "execution_count": 8,
   "metadata": {},
   "outputs": [],
   "source": [
    "scaler = StandardScaler()\n",
    "X_train_scaled = scaler.fit_transform(X_train)\n",
    "\n",
    "X_test_scaled = scaler.transform(X_test)"
   ]
  },
  {
   "cell_type": "markdown",
   "metadata": {},
   "source": [
    "# Perform PCA to reduce dimensionality"
   ]
  },
  {
   "cell_type": "code",
   "execution_count": 9,
   "metadata": {},
   "outputs": [],
   "source": [
    "k = 3\n",
    "my_pca = PCA(n_components = k)\n",
    "X_train = my_pca.fit_transform(X_train_scaled)\n",
    "X_test = my_pca.transform(X_test_scaled)"
   ]
  },
  {
   "cell_type": "code",
   "execution_count": 10,
   "metadata": {},
   "outputs": [],
   "source": [
    "# Use only a portion\n",
    "X_train = X_train[:10000]\n",
    "y_train = y_train[:10000]"
   ]
  },
  {
   "cell_type": "markdown",
   "metadata": {},
   "source": [
    "# Using Support Vector Machine model"
   ]
  },
  {
   "cell_type": "raw",
   "metadata": {},
   "source": [
    "from sklearn.utils.class_weight import compute_class_weight\n",
    "\n",
    "# Assign higher weight to malignant\n",
    "#class_weights = {False: 1, True: 1.2}"
   ]
  },
  {
   "cell_type": "code",
   "execution_count": 11,
   "metadata": {},
   "outputs": [],
   "source": [
    "svm = SVC(kernel='rbf', probability=True)"
   ]
  },
  {
   "cell_type": "raw",
   "metadata": {},
   "source": [
    "smote = SMOTE()\n",
    "X_train_resampled, y_train_resampled = smote.fit_resample(X_train, y_train)"
   ]
  },
  {
   "cell_type": "code",
   "execution_count": 12,
   "metadata": {},
   "outputs": [
    {
     "data": {
      "text/html": [
       "<style>#sk-container-id-1 {color: black;}#sk-container-id-1 pre{padding: 0;}#sk-container-id-1 div.sk-toggleable {background-color: white;}#sk-container-id-1 label.sk-toggleable__label {cursor: pointer;display: block;width: 100%;margin-bottom: 0;padding: 0.3em;box-sizing: border-box;text-align: center;}#sk-container-id-1 label.sk-toggleable__label-arrow:before {content: \"▸\";float: left;margin-right: 0.25em;color: #696969;}#sk-container-id-1 label.sk-toggleable__label-arrow:hover:before {color: black;}#sk-container-id-1 div.sk-estimator:hover label.sk-toggleable__label-arrow:before {color: black;}#sk-container-id-1 div.sk-toggleable__content {max-height: 0;max-width: 0;overflow: hidden;text-align: left;background-color: #f0f8ff;}#sk-container-id-1 div.sk-toggleable__content pre {margin: 0.2em;color: black;border-radius: 0.25em;background-color: #f0f8ff;}#sk-container-id-1 input.sk-toggleable__control:checked~div.sk-toggleable__content {max-height: 200px;max-width: 100%;overflow: auto;}#sk-container-id-1 input.sk-toggleable__control:checked~label.sk-toggleable__label-arrow:before {content: \"▾\";}#sk-container-id-1 div.sk-estimator input.sk-toggleable__control:checked~label.sk-toggleable__label {background-color: #d4ebff;}#sk-container-id-1 div.sk-label input.sk-toggleable__control:checked~label.sk-toggleable__label {background-color: #d4ebff;}#sk-container-id-1 input.sk-hidden--visually {border: 0;clip: rect(1px 1px 1px 1px);clip: rect(1px, 1px, 1px, 1px);height: 1px;margin: -1px;overflow: hidden;padding: 0;position: absolute;width: 1px;}#sk-container-id-1 div.sk-estimator {font-family: monospace;background-color: #f0f8ff;border: 1px dotted black;border-radius: 0.25em;box-sizing: border-box;margin-bottom: 0.5em;}#sk-container-id-1 div.sk-estimator:hover {background-color: #d4ebff;}#sk-container-id-1 div.sk-parallel-item::after {content: \"\";width: 100%;border-bottom: 1px solid gray;flex-grow: 1;}#sk-container-id-1 div.sk-label:hover label.sk-toggleable__label {background-color: #d4ebff;}#sk-container-id-1 div.sk-serial::before {content: \"\";position: absolute;border-left: 1px solid gray;box-sizing: border-box;top: 0;bottom: 0;left: 50%;z-index: 0;}#sk-container-id-1 div.sk-serial {display: flex;flex-direction: column;align-items: center;background-color: white;padding-right: 0.2em;padding-left: 0.2em;position: relative;}#sk-container-id-1 div.sk-item {position: relative;z-index: 1;}#sk-container-id-1 div.sk-parallel {display: flex;align-items: stretch;justify-content: center;background-color: white;position: relative;}#sk-container-id-1 div.sk-item::before, #sk-container-id-1 div.sk-parallel-item::before {content: \"\";position: absolute;border-left: 1px solid gray;box-sizing: border-box;top: 0;bottom: 0;left: 50%;z-index: -1;}#sk-container-id-1 div.sk-parallel-item {display: flex;flex-direction: column;z-index: 1;position: relative;background-color: white;}#sk-container-id-1 div.sk-parallel-item:first-child::after {align-self: flex-end;width: 50%;}#sk-container-id-1 div.sk-parallel-item:last-child::after {align-self: flex-start;width: 50%;}#sk-container-id-1 div.sk-parallel-item:only-child::after {width: 0;}#sk-container-id-1 div.sk-dashed-wrapped {border: 1px dashed gray;margin: 0 0.4em 0.5em 0.4em;box-sizing: border-box;padding-bottom: 0.4em;background-color: white;}#sk-container-id-1 div.sk-label label {font-family: monospace;font-weight: bold;display: inline-block;line-height: 1.2em;}#sk-container-id-1 div.sk-label-container {text-align: center;}#sk-container-id-1 div.sk-container {/* jupyter's `normalize.less` sets `[hidden] { display: none; }` but bootstrap.min.css set `[hidden] { display: none !important; }` so we also need the `!important` here to be able to override the default hidden behavior on the sphinx rendered scikit-learn.org. See: https://github.com/scikit-learn/scikit-learn/issues/21755 */display: inline-block !important;position: relative;}#sk-container-id-1 div.sk-text-repr-fallback {display: none;}</style><div id=\"sk-container-id-1\" class=\"sk-top-container\"><div class=\"sk-text-repr-fallback\"><pre>SVC(probability=True)</pre><b>In a Jupyter environment, please rerun this cell to show the HTML representation or trust the notebook. <br />On GitHub, the HTML representation is unable to render, please try loading this page with nbviewer.org.</b></div><div class=\"sk-container\" hidden><div class=\"sk-item\"><div class=\"sk-estimator sk-toggleable\"><input class=\"sk-toggleable__control sk-hidden--visually\" id=\"sk-estimator-id-1\" type=\"checkbox\" checked><label for=\"sk-estimator-id-1\" class=\"sk-toggleable__label sk-toggleable__label-arrow\">SVC</label><div class=\"sk-toggleable__content\"><pre>SVC(probability=True)</pre></div></div></div></div></div>"
      ],
      "text/plain": [
       "SVC(probability=True)"
      ]
     },
     "execution_count": 12,
     "metadata": {},
     "output_type": "execute_result"
    }
   ],
   "source": [
    "svm.fit(X_train, y_train)"
   ]
  },
  {
   "cell_type": "code",
   "execution_count": 13,
   "metadata": {},
   "outputs": [],
   "source": [
    "y_predict = svm.predict(X_test)"
   ]
  },
  {
   "cell_type": "code",
   "execution_count": 14,
   "metadata": {},
   "outputs": [],
   "source": [
    "accuracy = accuracy_score(y_test, y_predict)"
   ]
  },
  {
   "cell_type": "code",
   "execution_count": 15,
   "metadata": {},
   "outputs": [
    {
     "data": {
      "text/plain": [
       "0.8278449589077164"
      ]
     },
     "execution_count": 15,
     "metadata": {},
     "output_type": "execute_result"
    }
   ],
   "source": [
    "accuracy"
   ]
  },
  {
   "cell_type": "markdown",
   "metadata": {},
   "source": [
    "# Plot the ROC Curve"
   ]
  },
  {
   "cell_type": "code",
   "execution_count": 16,
   "metadata": {},
   "outputs": [
    {
     "name": "stdout",
     "output_type": "stream",
     "text": [
      "0.6980745926808014\n"
     ]
    }
   ],
   "source": [
    "y_scores = svm.predict_proba(X_test)[:, 1]\n",
    "\n",
    "fpr, tpr, thresholds = roc_curve(y_test, y_scores)\n",
    "roc_auc = auc(fpr, tpr)\n",
    "\n",
    "print(roc_auc)"
   ]
  },
  {
   "cell_type": "code",
   "execution_count": 17,
   "metadata": {},
   "outputs": [
    {
     "data": {
      "image/png": "[encoded data removed]",
      "text/plain": [
       "<Figure size 800x600 with 1 Axes>"
      ]
     },
     "metadata": {},
     "output_type": "display_data"
    }
   ],
   "source": [
    "plt.figure(figsize=(8, 6))\n",
    "plt.plot(fpr, tpr, color='cyan', lw=2, label=f'ROC curve (AUC = {roc_auc:.10f})')\n",
    "plt.plot([0, 1], [0, 1], color='navy', lw=2, linestyle='--')\n",
    "plt.xlabel('False Positive Rate')\n",
    "plt.ylabel('True Positive Rate')\n",
    "plt.title('SVM Receiver Operating Characteristic (ROC) Curve')\n",
    "plt.legend(loc='lower right')\n",
    "plt.grid(True)\n",
    "plt.show()"
   ]
  },
  {
   "cell_type": "markdown",
   "metadata": {},
   "source": [
    "# Plot confusion matrix"
   ]
  },
  {
   "cell_type": "code",
   "execution_count": 18,
   "metadata": {},
   "outputs": [
    {
     "data": {
      "image/png": "[encoded data removed]",
      "text/plain": [
       "<Figure size 640x480 with 2 Axes>"
      ]
     },
     "metadata": {},
     "output_type": "display_data"
    }
   ],
   "source": [
    "from sklearn.metrics import confusion_matrix, ConfusionMatrixDisplay\n",
    "import matplotlib.pyplot as plt\n",
    "\n",
    "cm = confusion_matrix(y_test, y_predict, labels=svm.classes_)\n",
    "\n",
    "disp = ConfusionMatrixDisplay(confusion_matrix=cm, display_labels=svm.classes_)\n",
    "disp.plot(cmap='Blues')\n",
    "plt.title(\"Confusion Matrix\")\n",
    "plt.show()"
   ]
  },
  {
   "cell_type": "markdown",
   "metadata": {},
   "source": [
    "# Grid Search"
   ]
  },
  {
   "cell_type": "code",
   "execution_count": 19,
   "metadata": {},
   "outputs": [
    {
     "name": "stdout",
     "output_type": "stream",
     "text": [
      "Best Parameters: {'C': 0.1, 'gamma': 1}\n",
      "Best Cross-Validation Accuracy: 0.8318\n",
      "Test Accuracy: 0.8278449589077164\n"
     ]
    }
   ],
   "source": [
    "param_grid = {\n",
    "    'C': [0.1, 1, 10, 100],\n",
    "    'gamma': [1, 0.1, 0.01, 0.001],\n",
    "}\n",
    "\n",
    "grid = GridSearchCV(estimator=svm, param_grid=param_grid, cv=10, scoring='accuracy', n_jobs=-1)\n",
    "\n",
    "grid.fit(X_train, y_train)\n",
    "\n",
    "print(\"Best Parameters:\", grid.best_params_)\n",
    "print(\"Best Cross-Validation Accuracy:\", grid.best_score_)\n",
    "\n",
    "y_pred = grid.predict(X_test)\n",
    "print(\"Test Accuracy:\", accuracy_score(y_test, y_pred))"
   ]
  }
 ],
 "metadata": {
  "kernelspec": {
   "display_name": "Python 3 (ipykernel)",
   "language": "python",
   "name": "python3"
  },
  "language_info": {
   "codemirror_mode": {
    "name": "ipython",
    "version": 3
   },
   "file_extension": ".py",
   "mimetype": "text/x-python",
   "name": "python",
   "nbconvert_exporter": "python",
   "pygments_lexer": "ipython3",
   "version": "3.8.20"
  }
 },
 "nbformat": 4,
 "nbformat_minor": 4
}
