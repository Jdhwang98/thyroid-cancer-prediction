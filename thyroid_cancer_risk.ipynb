{
 "cells": [
  {
   "cell_type": "markdown",
   "metadata": {},
   "source": [
    "# Thyroid Cancer Risk Prediction"
   ]
  },
  {
   "cell_type": "markdown",
   "metadata": {},
   "source": [
    "### Load dataset "
   ]
  },
  {
   "cell_type": "code",
   "execution_count": 89,
   "metadata": {},
   "outputs": [],
   "source": [
    "#Imports\n",
    "import pandas as pd\n",
    "import numpy as np\n",
    "import matplotlib.pyplot as plt\n",
    "import seaborn as sns\n",
    "from sklearn.model_selection import train_test_split\n",
    "from sklearn.ensemble import RandomForestClassifier\n",
    "from sklearn.tree import DecisionTreeClassifier\n",
    "from sklearn.ensemble import AdaBoostClassifier\n",
    "from xgboost import XGBClassifier\n",
    "from sklearn.metrics import accuracy_score\n",
    "from sklearn import metrics\n",
    "import matplotlib.pyplot as plt\n",
    "from sklearn.preprocessing import LabelEncoder\n",
    "from sklearn.preprocessing import StandardScaler"
   ]
  },
  {
   "cell_type": "code",
   "execution_count": 90,
   "metadata": {},
   "outputs": [],
   "source": [
    "df = pd.read_csv('thyroid_cancer_risk_data.csv')"
   ]
  },
  {
   "cell_type": "code",
   "execution_count": 91,
   "metadata": {},
   "outputs": [
    {
     "name": "stdout",
     "output_type": "stream",
     "text": [
      "------ df.shape---------\n",
      "(212691, 17)\n",
      "------ df.head---------\n",
      "   Patient_ID  Age  Gender  Country  Ethnicity Family_History  \\\n",
      "0           1   66    Male   Russia  Caucasian             No   \n",
      "1           2   29    Male  Germany   Hispanic             No   \n",
      "2           3   86    Male  Nigeria  Caucasian             No   \n",
      "3           4   75  Female    India      Asian             No   \n",
      "4           5   35  Female  Germany    African            Yes   \n",
      "\n",
      "  Radiation_Exposure Iodine_Deficiency Smoking Obesity Diabetes  TSH_Level  \\\n",
      "0                Yes                No      No      No       No       9.37   \n",
      "1                Yes                No      No      No       No       1.83   \n",
      "2                 No                No      No      No       No       6.26   \n",
      "3                 No                No      No      No       No       4.10   \n",
      "4                Yes                No      No      No       No       9.10   \n",
      "\n",
      "   T3_Level  T4_Level  Nodule_Size Thyroid_Cancer_Risk Diagnosis  \n",
      "0      1.67      6.16         1.08                 Low    Benign  \n",
      "1      1.73     10.54         4.05                 Low    Benign  \n",
      "2      2.59     10.57         4.61                 Low    Benign  \n",
      "3      2.62     11.04         2.46              Medium    Benign  \n",
      "4      2.11     10.71         2.11                High    Benign  \n",
      "----- df.describe--------\n",
      "         Patient_ID            Age      TSH_Level       T3_Level  \\\n",
      "count  212691.00000  212691.000000  212691.000000  212691.000000   \n",
      "mean   106346.00000      51.918497       5.045102       2.001727   \n",
      "std     61398.74739      21.632815       2.860264       0.866248   \n",
      "min         1.00000      15.000000       0.100000       0.500000   \n",
      "25%     53173.50000      33.000000       2.570000       1.250000   \n",
      "50%    106346.00000      52.000000       5.040000       2.000000   \n",
      "75%    159518.50000      71.000000       7.520000       2.750000   \n",
      "max    212691.00000      89.000000      10.000000       3.500000   \n",
      "\n",
      "            T4_Level    Nodule_Size  \n",
      "count  212691.000000  212691.000000  \n",
      "mean        8.246204       2.503403  \n",
      "std         2.164188       1.444631  \n",
      "min         4.500000       0.000000  \n",
      "25%         6.370000       1.250000  \n",
      "50%         8.240000       2.510000  \n",
      "75%        10.120000       3.760000  \n",
      "max        12.000000       5.000000  \n",
      "----- check for null values -----------\n",
      "Patient_ID             0\n",
      "Age                    0\n",
      "Gender                 0\n",
      "Country                0\n",
      "Ethnicity              0\n",
      "Family_History         0\n",
      "Radiation_Exposure     0\n",
      "Iodine_Deficiency      0\n",
      "Smoking                0\n",
      "Obesity                0\n",
      "Diabetes               0\n",
      "TSH_Level              0\n",
      "T3_Level               0\n",
      "T4_Level               0\n",
      "Nodule_Size            0\n",
      "Thyroid_Cancer_Risk    0\n",
      "Diagnosis              0\n",
      "dtype: int64\n"
     ]
    }
   ],
   "source": [
    "print(\"------ df.shape---------\")\n",
    "print(df.shape)\n",
    "\n",
    "print(\"------ df.head---------\")\n",
    "print(df.head())\n",
    "\n",
    "print(\"----- df.describe--------\")\n",
    "print(df.describe())\n",
    "\n",
    "print(\"----- check for null values -----------\")\n",
    "print(df.isnull().sum())"
   ]
  },
  {
   "cell_type": "code",
   "execution_count": 92,
   "metadata": {},
   "outputs": [
    {
     "name": "stdout",
     "output_type": "stream",
     "text": [
      "   Age  Gender  Family_History  Radiation_Exposure  Iodine_Deficiency  \\\n",
      "0   66       1               0                   1                  0   \n",
      "1   29       1               0                   1                  0   \n",
      "2   86       1               0                   0                  0   \n",
      "3   75       0               0                   0                  0   \n",
      "4   35       0               1                   1                  0   \n",
      "\n",
      "   Smoking  Obesity  Diabetes  TSH_Level  T3_Level  ...  Country_South Korea  \\\n",
      "0        0        0         0       9.37      1.67  ...                False   \n",
      "1        0        0         0       1.83      1.73  ...                False   \n",
      "2        0        0         0       6.26      2.59  ...                False   \n",
      "3        0        0         0       4.10      2.62  ...                False   \n",
      "4        0        0         0       9.10      2.11  ...                False   \n",
      "\n",
      "   Country_UK  Country_USA  Ethnicity_Asian  Ethnicity_Caucasian  \\\n",
      "0       False        False            False                 True   \n",
      "1       False        False            False                False   \n",
      "2       False        False            False                 True   \n",
      "3       False        False             True                False   \n",
      "4       False        False            False                False   \n",
      "\n",
      "   Ethnicity_Hispanic  Ethnicity_Middle Eastern  Thyroid_Cancer_Risk_Low  \\\n",
      "0               False                     False                     True   \n",
      "1                True                     False                     True   \n",
      "2               False                     False                     True   \n",
      "3               False                     False                    False   \n",
      "4               False                     False                    False   \n",
      "\n",
      "   Thyroid_Cancer_Risk_Medium  Diagnosis_Malignant  \n",
      "0                       False                False  \n",
      "1                       False                False  \n",
      "2                       False                False  \n",
      "3                        True                False  \n",
      "4                       False                False  \n",
      "\n",
      "[5 rows x 28 columns]\n"
     ]
    }
   ],
   "source": [
    "# Step 2: Drop irrelevant columns\n",
    "df = df.drop(columns=['Patient_ID'])  # Not useful for ML\n",
    "\n",
    "# Step 3: Encode categorical features\n",
    "# Label encode binary features or use one-hot encoding for others\n",
    "\n",
    "# Binary Label Encoding\n",
    "binary_cols = ['Gender', 'Family_History', 'Radiation_Exposure', 'Iodine_Deficiency', \n",
    "                'Smoking', 'Obesity', 'Diabetes']\n",
    "\n",
    "label_encoder = LabelEncoder()\n",
    "for col in binary_cols:\n",
    "    df[col] = label_encoder.fit_transform(df[col])\n",
    "\n",
    "# One-Hot Encoding for multi-category features\n",
    "df = pd.get_dummies(df, columns=['Country', 'Ethnicity', 'Thyroid_Cancer_Risk', 'Diagnosis'], drop_first=True)\n",
    "\n",
    "# Step 4: Cleaned dataframe\n",
    "print(df.head())\n"
   ]
  },
  {
   "cell_type": "code",
   "execution_count": 93,
   "metadata": {},
   "outputs": [
    {
     "name": "stdout",
     "output_type": "stream",
     "text": [
      "----- df.info-----------\n",
      "<class 'pandas.core.frame.DataFrame'>\n",
      "RangeIndex: 212691 entries, 0 to 212690\n",
      "Data columns (total 28 columns):\n",
      " #   Column                      Non-Null Count   Dtype  \n",
      "---  ------                      --------------   -----  \n",
      " 0   Age                         212691 non-null  int64  \n",
      " 1   Gender                      212691 non-null  int64  \n",
      " 2   Family_History              212691 non-null  int64  \n",
      " 3   Radiation_Exposure          212691 non-null  int64  \n",
      " 4   Iodine_Deficiency           212691 non-null  int64  \n",
      " 5   Smoking                     212691 non-null  int64  \n",
      " 6   Obesity                     212691 non-null  int64  \n",
      " 7   Diabetes                    212691 non-null  int64  \n",
      " 8   TSH_Level                   212691 non-null  float64\n",
      " 9   T3_Level                    212691 non-null  float64\n",
      " 10  T4_Level                    212691 non-null  float64\n",
      " 11  Nodule_Size                 212691 non-null  float64\n",
      " 12  Country_China               212691 non-null  bool   \n",
      " 13  Country_Germany             212691 non-null  bool   \n",
      " 14  Country_India               212691 non-null  bool   \n",
      " 15  Country_Japan               212691 non-null  bool   \n",
      " 16  Country_Nigeria             212691 non-null  bool   \n",
      " 17  Country_Russia              212691 non-null  bool   \n",
      " 18  Country_South Korea         212691 non-null  bool   \n",
      " 19  Country_UK                  212691 non-null  bool   \n",
      " 20  Country_USA                 212691 non-null  bool   \n",
      " 21  Ethnicity_Asian             212691 non-null  bool   \n",
      " 22  Ethnicity_Caucasian         212691 non-null  bool   \n",
      " 23  Ethnicity_Hispanic          212691 non-null  bool   \n",
      " 24  Ethnicity_Middle Eastern    212691 non-null  bool   \n",
      " 25  Thyroid_Cancer_Risk_Low     212691 non-null  bool   \n",
      " 26  Thyroid_Cancer_Risk_Medium  212691 non-null  bool   \n",
      " 27  Diagnosis_Malignant         212691 non-null  bool   \n",
      "dtypes: bool(16), float64(4), int64(8)\n",
      "memory usage: 22.7 MB\n",
      "None\n",
      "Feature matrix shape: (212691, 27)\n",
      "Label vector shape: (212691,)\n"
     ]
    }
   ],
   "source": [
    "print(\"----- df.info-----------\")\n",
    "print(df.info())\n",
    "\n",
    "#features\n",
    "X = df.drop(columns=['Diagnosis_Malignant']) \n",
    "\n",
    "#label\n",
    "y = df['Diagnosis_Malignant']\n",
    "\n",
    "print(\"Feature matrix shape:\", X.shape)\n",
    "print(\"Label vector shape:\", y.shape)"
   ]
  },
  {
   "cell_type": "code",
   "execution_count": 94,
   "metadata": {},
   "outputs": [],
   "source": [
    "# Train-test split\n",
    "X_train, X_test, y_train, y_test = train_test_split(X, y, test_size=0.3, random_state=42)"
   ]
  },
  {
   "cell_type": "code",
   "execution_count": 95,
   "metadata": {},
   "outputs": [],
   "source": [
    "#scale the features to improve performance/prevent features with larger ranges from dominating the model\n",
    "scaler = StandardScaler()\n",
    "#fit scaler to training set, transform training set, use same mean and standard deviation from training to transform testing data\n",
    "X_train_scaled = scaler.fit_transform(X_train)\n",
    "X_test_scaled = scaler.transform(X_test)"
   ]
  }
 ],
 "metadata": {
  "kernelspec": {
   "display_name": "tensorflowEnv",
   "language": "python",
   "name": "python3"
  },
  "language_info": {
   "codemirror_mode": {
    "name": "ipython",
    "version": 3
   },
   "file_extension": ".py",
   "mimetype": "text/x-python",
   "name": "python",
   "nbconvert_exporter": "python",
   "pygments_lexer": "ipython3",
   "version": "3.8.18"
  }
 },
 "nbformat": 4,
 "nbformat_minor": 2
}
