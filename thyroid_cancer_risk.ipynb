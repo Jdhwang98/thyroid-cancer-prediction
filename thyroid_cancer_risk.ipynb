{
 "cells": [
  {
   "cell_type": "markdown",
   "metadata": {},
   "source": [
    "# Thyroid Cancer Risk Prediction"
   ]
  },
  {
   "cell_type": "markdown",
   "metadata": {},
   "source": [
    "### Load dataset "
   ]
  },
  {
   "cell_type": "code",
   "execution_count": 22,
   "metadata": {},
   "outputs": [],
   "source": [
    "#Imports\n",
    "import pandas as pd\n",
    "import numpy as np\n",
    "import matplotlib.pyplot as plt\n",
    "import seaborn as sns\n",
    "from sklearn.model_selection import train_test_split\n",
    "from sklearn.preprocessing import StandardScaler, LabelEncoder\n",
    "from sklearn.ensemble import RandomForestClassifier\n",
    "from sklearn.metrics import classification_report, confusion_matrix, accuracy_score\n",
    "\n",
    "\n",
    "import pandas as pd\n",
    "import numpy as np\n",
    "from sklearn.model_selection import train_test_split\n",
    "from sklearn.tree import DecisionTreeClassifier\n",
    "from sklearn.metrics import accuracy_score\n",
    "from sklearn.metrics import roc_auc_score\n",
    "from sklearn import metrics\n",
    "from sklearn.utils import resample\n",
    "from sklearn.ensemble import AdaBoostClassifier\n",
    "from xgboost import XGBClassifier\n",
    "from sklearn.ensemble import RandomForestClassifier\n",
    "import matplotlib.pyplot as plt\n",
    "\n"
   ]
  },
  {
   "cell_type": "code",
   "execution_count": 23,
   "metadata": {},
   "outputs": [],
   "source": [
    "df = pd.read_csv('thyroid_cancer_risk_data.csv')"
   ]
  },
  {
   "cell_type": "code",
   "execution_count": 24,
   "metadata": {},
   "outputs": [
    {
     "name": "stdout",
     "output_type": "stream",
     "text": [
      "------ df.shape---------\n",
      "(212691, 17)\n",
      "------ df.head---------\n",
      "   Patient_ID  Age  Gender  Country  Ethnicity Family_History  \\\n",
      "0           1   66    Male   Russia  Caucasian             No   \n",
      "1           2   29    Male  Germany   Hispanic             No   \n",
      "2           3   86    Male  Nigeria  Caucasian             No   \n",
      "3           4   75  Female    India      Asian             No   \n",
      "4           5   35  Female  Germany    African            Yes   \n",
      "\n",
      "  Radiation_Exposure Iodine_Deficiency Smoking Obesity Diabetes  TSH_Level  \\\n",
      "0                Yes                No      No      No       No       9.37   \n",
      "1                Yes                No      No      No       No       1.83   \n",
      "2                 No                No      No      No       No       6.26   \n",
      "3                 No                No      No      No       No       4.10   \n",
      "4                Yes                No      No      No       No       9.10   \n",
      "\n",
      "   T3_Level  T4_Level  Nodule_Size Thyroid_Cancer_Risk Diagnosis  \n",
      "0      1.67      6.16         1.08                 Low    Benign  \n",
      "1      1.73     10.54         4.05                 Low    Benign  \n",
      "2      2.59     10.57         4.61                 Low    Benign  \n",
      "3      2.62     11.04         2.46              Medium    Benign  \n",
      "4      2.11     10.71         2.11                High    Benign  \n",
      "----- df.describe--------\n",
      "         Patient_ID            Age      TSH_Level       T3_Level  \\\n",
      "count  212691.00000  212691.000000  212691.000000  212691.000000   \n",
      "mean   106346.00000      51.918497       5.045102       2.001727   \n",
      "std     61398.74739      21.632815       2.860264       0.866248   \n",
      "min         1.00000      15.000000       0.100000       0.500000   \n",
      "25%     53173.50000      33.000000       2.570000       1.250000   \n",
      "50%    106346.00000      52.000000       5.040000       2.000000   \n",
      "75%    159518.50000      71.000000       7.520000       2.750000   \n",
      "max    212691.00000      89.000000      10.000000       3.500000   \n",
      "\n",
      "            T4_Level    Nodule_Size  \n",
      "count  212691.000000  212691.000000  \n",
      "mean        8.246204       2.503403  \n",
      "std         2.164188       1.444631  \n",
      "min         4.500000       0.000000  \n",
      "25%         6.370000       1.250000  \n",
      "50%         8.240000       2.510000  \n",
      "75%        10.120000       3.760000  \n",
      "max        12.000000       5.000000  \n",
      "----- check for null values -----------\n",
      "Patient_ID             0\n",
      "Age                    0\n",
      "Gender                 0\n",
      "Country                0\n",
      "Ethnicity              0\n",
      "Family_History         0\n",
      "Radiation_Exposure     0\n",
      "Iodine_Deficiency      0\n",
      "Smoking                0\n",
      "Obesity                0\n",
      "Diabetes               0\n",
      "TSH_Level              0\n",
      "T3_Level               0\n",
      "T4_Level               0\n",
      "Nodule_Size            0\n",
      "Thyroid_Cancer_Risk    0\n",
      "Diagnosis              0\n",
      "dtype: int64\n"
     ]
    }
   ],
   "source": [
    "print(\"------ df.shape---------\")\n",
    "print(df.shape)\n",
    "\n",
    "print(\"------ df.head---------\")\n",
    "print(df.head())\n",
    "\n",
    "print(\"----- df.describe--------\")\n",
    "print(df.describe())\n",
    "\n",
    "print(\"----- check for null values -----------\")\n",
    "print(df.isnull().sum())"
   ]
  },
  {
   "cell_type": "code",
   "execution_count": 25,
   "metadata": {},
   "outputs": [
    {
     "name": "stdout",
     "output_type": "stream",
     "text": [
      "   Age  Gender  Family_History  Radiation_Exposure  Iodine_Deficiency  \\\n",
      "0   66       1               0                   1                  0   \n",
      "1   29       1               0                   1                  0   \n",
      "2   86       1               0                   0                  0   \n",
      "3   75       0               0                   0                  0   \n",
      "4   35       0               1                   1                  0   \n",
      "\n",
      "   Smoking  Obesity  Diabetes  TSH_Level  T3_Level  ...  Country_south korea  \\\n",
      "0        0        0         0       9.37      1.67  ...                False   \n",
      "1        0        0         0       1.83      1.73  ...                False   \n",
      "2        0        0         0       6.26      2.59  ...                False   \n",
      "3        0        0         0       4.10      2.62  ...                False   \n",
      "4        0        0         0       9.10      2.11  ...                False   \n",
      "\n",
      "   Country_uk  Country_usa  Ethnicity_asian  Ethnicity_caucasian  \\\n",
      "0       False        False            False                 True   \n",
      "1       False        False            False                False   \n",
      "2       False        False            False                 True   \n",
      "3       False        False             True                False   \n",
      "4       False        False            False                False   \n",
      "\n",
      "   Ethnicity_hispanic  Ethnicity_middle eastern  Thyroid_Cancer_Risk_low  \\\n",
      "0               False                     False                     True   \n",
      "1                True                     False                     True   \n",
      "2               False                     False                     True   \n",
      "3               False                     False                    False   \n",
      "4               False                     False                    False   \n",
      "\n",
      "   Thyroid_Cancer_Risk_medium  Diagnosis_malignant  \n",
      "0                       False                False  \n",
      "1                       False                False  \n",
      "2                       False                False  \n",
      "3                        True                False  \n",
      "4                       False                False  \n",
      "\n",
      "[5 rows x 28 columns]\n"
     ]
    }
   ],
   "source": [
    "import pandas as pd\n",
    "from sklearn.preprocessing import LabelEncoder\n",
    "\n",
    "# Step 2: Drop irrelevant columns\n",
    "df = df.drop(columns=['Patient_ID'])  # Not useful for ML\n",
    "\n",
    "# Step 3: Standardize object (categorical) columns\n",
    "# Convert to lowercase and strip spaces for consistency\n",
    "for col in df.select_dtypes(include='object').columns:\n",
    "    df[col] = df[col].str.lower().str.strip()\n",
    "\n",
    "# Optional: Check for unique values per categorical column\n",
    "# print({col: df[col].unique() for col in df.select_dtypes(include='object').columns})\n",
    "\n",
    "# Step 4: Encode categorical features\n",
    "# Label encode binary features or use one-hot encoding for others\n",
    "\n",
    "# Binary Label Encoding\n",
    "binary_cols = ['Gender', 'Family_History', 'Radiation_Exposure', 'Iodine_Deficiency', \n",
    "                'Smoking', 'Obesity', 'Diabetes']\n",
    "\n",
    "le = LabelEncoder()\n",
    "for col in binary_cols:\n",
    "    df[col] = le.fit_transform(df[col])\n",
    "\n",
    "# One-Hot Encoding for multi-category features\n",
    "df = pd.get_dummies(df, columns=['Country', 'Ethnicity', 'Thyroid_Cancer_Risk', 'Diagnosis'], drop_first=True)\n",
    "\n",
    "# Step 5: Resulting cleaned dataframe\n",
    "print(df.head())\n"
   ]
  },
  {
   "cell_type": "code",
   "execution_count": 26,
   "metadata": {},
   "outputs": [
    {
     "name": "stdout",
     "output_type": "stream",
     "text": [
      "Index(['Age', 'Gender', 'Family_History', 'Radiation_Exposure',\n",
      "       'Iodine_Deficiency', 'Smoking', 'Obesity', 'Diabetes', 'TSH_Level',\n",
      "       'T3_Level', 'T4_Level', 'Nodule_Size', 'Country_china',\n",
      "       'Country_germany', 'Country_india', 'Country_japan', 'Country_nigeria',\n",
      "       'Country_russia', 'Country_south korea', 'Country_uk', 'Country_usa',\n",
      "       'Ethnicity_asian', 'Ethnicity_caucasian', 'Ethnicity_hispanic',\n",
      "       'Ethnicity_middle eastern', 'Thyroid_Cancer_Risk_low',\n",
      "       'Thyroid_Cancer_Risk_medium', 'Diagnosis_malignant'],\n",
      "      dtype='object')\n",
      "Feature matrix shape: (212691, 27)\n",
      "Label vector shape: (212691,)\n"
     ]
    }
   ],
   "source": [
    "print(df.columns)\n",
    "\n",
    "#features\n",
    "X = df.drop(columns=['Diagnosis_malignant']) \n",
    "\n",
    "#label\n",
    "y = df['Diagnosis_malignant']\n",
    "\n",
    "print(\"Feature matrix shape:\", X.shape)\n",
    "print(\"Label vector shape:\", y.shape)"
   ]
  },
  {
   "cell_type": "code",
   "execution_count": 27,
   "metadata": {},
   "outputs": [],
   "source": [
    "# Train-test split\n",
    "X_train, X_test, y_train, y_test = train_test_split(X, y, test_size=0.3, random_state=42)"
   ]
  },
  {
   "cell_type": "code",
   "execution_count": 28,
   "metadata": {},
   "outputs": [
    {
     "name": "stdout",
     "output_type": "stream",
     "text": [
      "Decision Tree Accuracy: 0.8229062186559679\n",
      "Area Under Curve for ROC 0.694373323300126\n"
     ]
    }
   ],
   "source": [
    "# Random Forest\n",
    "\n",
    "my_RandomForest = RandomForestClassifier(n_estimators = 29, bootstrap = True, random_state=2)\n",
    "\n",
    "# fitting the model to the training data\n",
    "my_RandomForest.fit(X_train, y_train)\n",
    "\n",
    "# make predictions on the testing set\n",
    "y_predict_rf = my_RandomForest.predict(X_test)\n",
    "\n",
    "#get the accuracy score and print\n",
    "rf_accuracy = accuracy_score(y_test, y_predict_rf)\n",
    "print('Decision Tree Accuracy:', rf_accuracy)\n",
    "\n",
    "\n",
    "#AUC\n",
    "\n",
    "#estimating the probability of each label \n",
    "y_predict_prob_rf = my_RandomForest.predict_proba(X_test)\n",
    "\n",
    "# estimated likelihood of label=1 for the testing set\n",
    "y_prob_rf = y_predict_prob_rf[:, 1] \n",
    "\n",
    "#false positive rate (fpr) and true positive rate (tpr)\n",
    "fpr_rf, tpr_rf, thresholds_rf = metrics.roc_curve(y_test, y_prob_rf, pos_label=1)\n",
    "\n",
    "AUC_rf = metrics.auc(fpr_rf, tpr_rf)\n",
    "print('Area Under Curve for ROC', AUC_rf)"
   ]
  },
  {
   "cell_type": "code",
   "execution_count": 29,
   "metadata": {},
   "outputs": [
    {
     "name": "stdout",
     "output_type": "stream",
     "text": [
      "Decision Tree Accuracy: 0.7049429538615848\n",
      "Area Under Curve for ROC 0.6013847774412517\n"
     ]
    }
   ],
   "source": [
    "# Decision Tree\n",
    "\n",
    "my_DecisionTree = DecisionTreeClassifier(random_state=2)\n",
    "\n",
    "# fitting the model to the training data\n",
    "my_DecisionTree.fit(X_train, y_train)\n",
    "\n",
    "# make predictions on the testing set\n",
    "y_predict_dt = my_DecisionTree.predict(X_test)\n",
    "\n",
    "#get the accuracy score and print\n",
    "dt_accuracy = accuracy_score(y_test, y_predict_dt)\n",
    "print('Decision Tree Accuracy:', dt_accuracy)\n",
    "\n",
    "#AUC \n",
    "\n",
    "#estimating the probability of each label \n",
    "y_predict_prob_dt = my_DecisionTree.predict_proba(X_test)\n",
    "\n",
    "# estimated likelihood of label=1 for the testing set\n",
    "y_prob = y_predict_prob_dt[:, 1] \n",
    "\n",
    "#false positive rate (fpr) and true positive rate (tpr)\n",
    "fpr_dt, tpr_dt, thresholds_dt = metrics.roc_curve(y_test, y_prob, pos_label=1)\n",
    "\n",
    "AUC_dt = metrics.auc(fpr_dt, tpr_dt)\n",
    "print('Area Under Curve for ROC', AUC_dt)"
   ]
  },
  {
   "cell_type": "code",
   "execution_count": 30,
   "metadata": {},
   "outputs": [
    {
     "name": "stdout",
     "output_type": "stream",
     "text": [
      "Adaboost Accuracy: 0.8260092778335005\n",
      "Area Under Curve for ROC 0.6971085490475853\n"
     ]
    }
   ],
   "source": [
    "# AdaBoost\n",
    "\n",
    "my_AdaBoost = AdaBoostClassifier(n_estimators = 29,random_state=2)\n",
    "\n",
    "# fitting the model to the training data\n",
    "my_AdaBoost.fit(X_train, y_train)\n",
    "\n",
    "# make predictions on the testing set\n",
    "y_predict_ab = my_AdaBoost.predict(X_test)\n",
    "\n",
    "#get the accuracy score and print\n",
    "ab_accuracy = accuracy_score(y_test, y_predict_ab)\n",
    "print('Adaboost Accuracy:', ab_accuracy)\n",
    "\n",
    "\n",
    "# AUC\n",
    "\n",
    "#estimating the probability of each label \n",
    "y_predict_prob_ab = my_AdaBoost.predict_proba(X_test)\n",
    "\n",
    "# estimated likelihood of label=1 for the testing set\n",
    "y_prob_ab = y_predict_prob_ab[:, 1] \n",
    "\n",
    "#false positive rate (fpr) and true positive rate (tpr)\n",
    "fpr_ab, tpr_ab, thresholds_ab = metrics.roc_curve(y_test, y_prob_ab, pos_label=1)\n",
    "\n",
    "AUC_ab = metrics.auc(fpr_ab, tpr_ab)\n",
    "print('Area Under Curve for ROC', AUC_ab)"
   ]
  },
  {
   "cell_type": "code",
   "execution_count": 31,
   "metadata": {},
   "outputs": [
    {
     "name": "stdout",
     "output_type": "stream",
     "text": [
      "XGBoost Accuracy: 0.8257898696088265\n",
      "Area Under Curve for ROC 0.6928483952208633\n"
     ]
    }
   ],
   "source": [
    "# XGBoost\n",
    "\n",
    "my_XGBoost = XGBClassifier(n_estimators = 29,random_state=2)\n",
    "\n",
    "# fitting the model to the training data\n",
    "my_XGBoost.fit(X_train, y_train)\n",
    "\n",
    "# make predictions on the testing set\n",
    "y_predict_xg = my_XGBoost.predict(X_test)\n",
    "\n",
    "#get the accuracy score and print\n",
    "xg_accuracy = accuracy_score(y_test, y_predict_xg)\n",
    "print('XGBoost Accuracy:', xg_accuracy)\n",
    "\n",
    "\n",
    "# AUC\n",
    "\n",
    "#estimating the probability of each label \n",
    "y_predict_prob_xg = my_XGBoost.predict_proba(X_test)\n",
    "\n",
    "# estimated likelihood of label=1 for the testing set\n",
    "y_prob_xg = y_predict_prob_xg[:, 1] \n",
    "\n",
    "#false positive rate (fpr) and true positive rate (tpr)\n",
    "fpr_xg, tpr_xg, thresholds_xg = metrics.roc_curve(y_test, y_prob_xg, pos_label=1)\n",
    "\n",
    "AUC_xg = metrics.auc(fpr_xg, tpr_xg)\n",
    "print('Area Under Curve for ROC', AUC_xg)"
   ]
  },
  {
   "cell_type": "code",
   "execution_count": 32,
   "metadata": {},
   "outputs": [
    {
     "data": {
      "image/png": "[encoded data removed]",
      "text/plain": [
       "<Figure size 640x480 with 1 Axes>"
      ]
     },
     "metadata": {},
     "output_type": "display_data"
    }
   ],
   "source": [
    "%matplotlib inline\n",
    "\n",
    "plt.figure()\n",
    "\n",
    "# Roc Curve:\n",
    "plt.plot(fpr_dt, tpr_dt, color='red', lw=2, label='Decision Tree (AUC = %0.4f)' % AUC_dt)\n",
    "plt.plot(fpr_ab, tpr_ab, color='green', lw=2, label='Adaboost (AUC = %0.4f)' % AUC_ab)\n",
    "plt.plot(fpr_xg, tpr_xg,color='orange', lw=2, label='XGBoost (AUC = %0.4f)' % AUC_xg)\n",
    "plt.plot(fpr_rf, tpr_rf,color='purple', lw=2, label='Random Forest (AUC = %0.4f)' % AUC_rf)\n",
    "\n",
    "# Random Guess line:\n",
    "plt.plot([0, 1], [0, 1], 'k--', label=\"Random Guessing\")\n",
    "\n",
    "# Defining The Range of X-Axis and Y-Axis:\n",
    "plt.xlim([-0.005, 1.005])\n",
    "plt.ylim([0.0, 1.01])\n",
    "\n",
    "# Labels, Title, Legend:\n",
    "plt.xlabel('False Positive Rate')\n",
    "plt.ylabel('True Positive Rate')\n",
    "plt.title('Receiver operating characteristic')\n",
    "plt.legend(loc=\"lower right\")\n",
    "\n",
    "plt.show()"
   ]
  }
 ],
 "metadata": {
  "kernelspec": {
   "display_name": "tensorflowEnv",
   "language": "python",
   "name": "python3"
  },
  "language_info": {
   "codemirror_mode": {
    "name": "ipython",
    "version": 3
   },
   "file_extension": ".py",
   "mimetype": "text/x-python",
   "name": "python",
   "nbconvert_exporter": "python",
   "pygments_lexer": "ipython3",
   "version": "3.8.18"
  }
 },
 "nbformat": 4,
 "nbformat_minor": 2
}
